{
 "cells": [
  {
   "cell_type": "markdown",
   "id": "9ba96fde",
   "metadata": {},
   "source": [
    "### Load the libraries"
   ]
  },
  {
   "cell_type": "code",
   "execution_count": 2,
   "id": "2251ab3f",
   "metadata": {},
   "outputs": [],
   "source": [
    "import requests\n",
    "from bs4 import BeautifulSoup as bs"
   ]
  },
  {
   "cell_type": "markdown",
   "id": "48188829",
   "metadata": {},
   "source": [
    "### Load our first page"
   ]
  },
  {
   "cell_type": "code",
   "execution_count": 5,
   "id": "cf65c000",
   "metadata": {},
   "outputs": [
    {
     "name": "stdout",
     "output_type": "stream",
     "text": [
      "<html>\n",
      " <head>\n",
      "  <title>\n",
      "   HTML Example\n",
      "  </title>\n",
      " </head>\n",
      " <body>\n",
      "  <div align=\"middle\">\n",
      "   <h1>\n",
      "    HTML Webpage\n",
      "   </h1>\n",
      "   <p>\n",
      "    Link to more interesting example:\n",
      "    <a href=\"https://keithgalli.github.io/web-scraping/webpage.html\">\n",
      "     keithgalli.github.io/web-scraping/webpage.html\n",
      "    </a>\n",
      "   </p>\n",
      "  </div>\n",
      "  <h2>\n",
      "   A Header\n",
      "  </h2>\n",
      "  <p>\n",
      "   <i>\n",
      "    Some italicized text\n",
      "   </i>\n",
      "  </p>\n",
      "  <h2>\n",
      "   Another header\n",
      "  </h2>\n",
      "  <p id=\"paragraph-id\">\n",
      "   <b>\n",
      "    Some bold text\n",
      "   </b>\n",
      "  </p>\n",
      " </body>\n",
      "</html>\n",
      "\n"
     ]
    }
   ],
   "source": [
    "# loading the webpage content\n",
    "r = requests.get(\"https://keithgalli.github.io/web-scraping/example.html\")\n",
    "\n",
    "# convert to a beautiful soup object\n",
    "soup = bs(r.content)\n",
    "\n",
    "# print the html\n",
    "print(soup.prettify())"
   ]
  },
  {
   "cell_type": "markdown",
   "id": "e604ced1",
   "metadata": {},
   "source": [
    "### Start using Beautiful Soup to scrape"
   ]
  },
  {
   "cell_type": "markdown",
   "id": "d6194200",
   "metadata": {},
   "source": [
    "#### find vs find_all"
   ]
  },
  {
   "cell_type": "code",
   "execution_count": 7,
   "id": "94cd48c2",
   "metadata": {},
   "outputs": [
    {
     "data": {
      "text/plain": [
       "<h2>A Header</h2>"
      ]
     },
     "execution_count": 7,
     "metadata": {},
     "output_type": "execute_result"
    }
   ],
   "source": [
    "# soup.find() returns the first element that matches the element specified\n",
    "first_header = soup.find('h2')\n",
    "first_header"
   ]
  },
  {
   "cell_type": "code",
   "execution_count": 8,
   "id": "4a525aa7",
   "metadata": {},
   "outputs": [
    {
     "data": {
      "text/plain": [
       "[<h2>A Header</h2>, <h2>Another header</h2>]"
      ]
     },
     "execution_count": 8,
     "metadata": {},
     "output_type": "execute_result"
    }
   ],
   "source": [
    "# soup.find_all() returns a list of all elements that matches the element specified\n",
    "second_header = soup.find_all('h2')\n",
    "second_header"
   ]
  },
  {
   "cell_type": "code",
   "execution_count": 10,
   "id": "8bd6babd",
   "metadata": {},
   "outputs": [
    {
     "data": {
      "text/plain": [
       "<h1>HTML Webpage</h1>"
      ]
     },
     "execution_count": 10,
     "metadata": {},
     "output_type": "execute_result"
    }
   ],
   "source": [
    "# pass in a list of elements to look for - find\n",
    "headers = soup.find(['h1', 'h2']) # returns the first matching element found from the list. order doesnt matter\n",
    "headers"
   ]
  },
  {
   "cell_type": "code",
   "execution_count": 11,
   "id": "8b130ff3",
   "metadata": {},
   "outputs": [
    {
     "data": {
      "text/plain": [
       "[<h1>HTML Webpage</h1>, <h2>A Header</h2>, <h2>Another header</h2>]"
      ]
     },
     "execution_count": 11,
     "metadata": {},
     "output_type": "execute_result"
    }
   ],
   "source": [
    "# pass in a list of elements to look for - find_all\n",
    "headers = soup.find_all(['h1', 'h2']) # returns all the matching elements found from the list. order doesnt matter\n",
    "headers"
   ]
  },
  {
   "cell_type": "code",
   "execution_count": 14,
   "id": "906ef9a9",
   "metadata": {},
   "outputs": [
    {
     "data": {
      "text/plain": [
       "[<p id=\"paragraph-id\"><b>Some bold text</b></p>]"
      ]
     },
     "execution_count": 14,
     "metadata": {},
     "output_type": "execute_result"
    }
   ],
   "source": [
    "# passing attributes\n",
    "headers = soup.find_all(\"p\", attrs = {\"id\": \"paragraph-id\"}) # find all paragraph elements with id paragraph-id\n",
    "headers"
   ]
  },
  {
   "cell_type": "code",
   "execution_count": 16,
   "id": "33428bf8",
   "metadata": {},
   "outputs": [
    {
     "name": "stdout",
     "output_type": "stream",
     "text": [
      "<p>Link to more interesting example: <a href=\"https://keithgalli.github.io/web-scraping/webpage.html\">keithgalli.github.io/web-scraping/webpage.html</a></p>\n"
     ]
    }
   ],
   "source": [
    "# nested fetch\n",
    "body = soup.find(\"body\")\n",
    "pInsideBody = body.find('p')\n",
    "print(pInsideBody)"
   ]
  },
  {
   "cell_type": "code",
   "execution_count": 19,
   "id": "d53a8d05",
   "metadata": {},
   "outputs": [
    {
     "data": {
      "text/plain": [
       "[<p><i>Some italicized text</i></p>]"
      ]
     },
     "execution_count": 19,
     "metadata": {},
     "output_type": "execute_result"
    }
   ],
   "source": [
    "# search for an element that contains a specific test\n",
    "element = soup.find_all('p', string = 'Some italicized text') # the string attribute has to provided with the entire text content of the element\n",
    "element"
   ]
  },
  {
   "cell_type": "code",
   "execution_count": 21,
   "id": "a5a3d331",
   "metadata": {},
   "outputs": [
    {
     "data": {
      "text/plain": [
       "[<h2>A Header</h2>, <h2>Another header</h2>]"
      ]
     },
     "execution_count": 21,
     "metadata": {},
     "output_type": "execute_result"
    }
   ],
   "source": [
    "# regular expressions can be used to search for any keyword instead of entire text content\n",
    "import re\n",
    "\n",
    "paragraphs = soup.find_all('p', string = re.compile('Some'))\n",
    "paragraphs\n",
    "\n",
    "headers = soup.find_all('h2', string = re.compile('(H|h)eader'))\n",
    "headers"
   ]
  },
  {
   "cell_type": "markdown",
   "id": "412b2d8c",
   "metadata": {},
   "source": [
    "#### select (CSS selector)"
   ]
  },
  {
   "cell_type": "code",
   "execution_count": 23,
   "id": "defbb792",
   "metadata": {},
   "outputs": [
    {
     "data": {
      "text/plain": [
       "[<p>Link to more interesting example: <a href=\"https://keithgalli.github.io/web-scraping/webpage.html\">keithgalli.github.io/web-scraping/webpage.html</a></p>,\n",
       " <p><i>Some italicized text</i></p>,\n",
       " <p id=\"paragraph-id\"><b>Some bold text</b></p>]"
      ]
     },
     "execution_count": 23,
     "metadata": {},
     "output_type": "execute_result"
    }
   ],
   "source": [
    "content = soup.select('p') # fetch a paragraph element\n",
    "content"
   ]
  },
  {
   "cell_type": "code",
   "execution_count": 24,
   "id": "f32a28d1",
   "metadata": {},
   "outputs": [
    {
     "data": {
      "text/plain": [
       "[<p>Link to more interesting example: <a href=\"https://keithgalli.github.io/web-scraping/webpage.html\">keithgalli.github.io/web-scraping/webpage.html</a></p>]"
      ]
     },
     "execution_count": 24,
     "metadata": {},
     "output_type": "execute_result"
    }
   ],
   "source": [
    "content = soup.select('div p') # fetch a paragraph element thats inside a div element\n",
    "content"
   ]
  },
  {
   "cell_type": "code",
   "execution_count": 25,
   "id": "c5bc0485",
   "metadata": {},
   "outputs": [
    {
     "data": {
      "text/plain": [
       "[<p><i>Some italicized text</i></p>,\n",
       " <p id=\"paragraph-id\"><b>Some bold text</b></p>]"
      ]
     },
     "execution_count": 25,
     "metadata": {},
     "output_type": "execute_result"
    }
   ],
   "source": [
    "content = soup.select('h2 ~ p') # fetch a paragraph element thats next to an h2 element\n",
    "content"
   ]
  },
  {
   "cell_type": "code",
   "execution_count": 29,
   "id": "bfaf1ee1",
   "metadata": {},
   "outputs": [
    {
     "data": {
      "text/plain": [
       "[<b>Some bold text</b>]"
      ]
     },
     "execution_count": 29,
     "metadata": {},
     "output_type": "execute_result"
    }
   ],
   "source": [
    "content = soup.select('#paragraph-id b') # fetch a bold element thats inside a paragraph element with id 'paragraph-id'\n",
    "content"
   ]
  },
  {
   "cell_type": "code",
   "execution_count": 33,
   "id": "08354c8b",
   "metadata": {},
   "outputs": [
    {
     "name": "stdout",
     "output_type": "stream",
     "text": [
      "[<p><i>Some italicized text</i></p>, <p id=\"paragraph-id\"><b>Some bold text</b></p>]\n",
      "[<i>Some italicized text</i>]\n",
      "[]\n"
     ]
    }
   ],
   "source": [
    "content = soup.select('body > p') # Selects all <p> elements where the parent is a body element. Immediate children\n",
    "print(content)\n",
    "\n",
    "# we can nest through the results\n",
    "for ele in content:\n",
    "    print(ele.select('i'))"
   ]
  },
  {
   "cell_type": "code",
   "execution_count": 34,
   "id": "e88c3002",
   "metadata": {},
   "outputs": [
    {
     "data": {
      "text/plain": [
       "[<div align=\"middle\">\n",
       " <h1>HTML Webpage</h1>\n",
       " <p>Link to more interesting example: <a href=\"https://keithgalli.github.io/web-scraping/webpage.html\">keithgalli.github.io/web-scraping/webpage.html</a></p>\n",
       " </div>]"
      ]
     },
     "execution_count": 34,
     "metadata": {},
     "output_type": "execute_result"
    }
   ],
   "source": [
    "# grab by element with specific property\n",
    "soup.select('[align = middle]')"
   ]
  },
  {
   "cell_type": "markdown",
   "id": "d962d1e1",
   "metadata": {},
   "source": [
    "#### Extract content from HTML"
   ]
  },
  {
   "cell_type": "code",
   "execution_count": 41,
   "id": "b10a6979",
   "metadata": {},
   "outputs": [
    {
     "name": "stdout",
     "output_type": "stream",
     "text": [
      "A Header\n",
      "\n",
      "HTML Webpage\n",
      "Link to more interesting example: keithgalli.github.io/web-scraping/webpage.html\n",
      "\n"
     ]
    }
   ],
   "source": [
    "# scrape text from a single element\n",
    "header = soup.find('h2')\n",
    "print(header.string)\n",
    "\n",
    "# scrape text from multiple child elements\n",
    "header = soup.find('div')\n",
    "print(header.get_text())"
   ]
  },
  {
   "cell_type": "code",
   "execution_count": 44,
   "id": "f6de880b",
   "metadata": {},
   "outputs": [
    {
     "name": "stdout",
     "output_type": "stream",
     "text": [
      "<a href=\"https://keithgalli.github.io/web-scraping/webpage.html\">keithgalli.github.io/web-scraping/webpage.html</a>\n"
     ]
    }
   ],
   "source": [
    "# get a specific property of an element\n",
    "link = soup.find('a')\n",
    "print(link)"
   ]
  },
  {
   "cell_type": "code",
   "execution_count": 48,
   "id": "161047b3",
   "metadata": {},
   "outputs": [
    {
     "name": "stdout",
     "output_type": "stream",
     "text": [
      "https://keithgalli.github.io/web-scraping/webpage.html\n",
      "paragraph-id\n"
     ]
    }
   ],
   "source": [
    "# get a specific property from an element\n",
    "link = soup.find('a')\n",
    "print(link['href'])\n",
    "\n",
    "para = soup.select('p')\n",
    "print(para[2]['id'])"
   ]
  },
  {
   "cell_type": "markdown",
   "id": "0e0874f9",
   "metadata": {},
   "source": [
    "#### Code Navigation"
   ]
  },
  {
   "cell_type": "code",
   "execution_count": 50,
   "id": "ee820711",
   "metadata": {},
   "outputs": [
    {
     "data": {
      "text/plain": [
       "[<h2>A Header</h2>,\n",
       " <p><i>Some italicized text</i></p>,\n",
       " <h2>Another header</h2>,\n",
       " <p id=\"paragraph-id\"><b>Some bold text</b></p>]"
      ]
     },
     "execution_count": 50,
     "metadata": {},
     "output_type": "execute_result"
    }
   ],
   "source": [
    "# we can use the dot operator to navigate the elements\n",
    "soup.body.div.h1.string\n",
    "\n",
    "# there is a concept of parent, child, siblings and there are methods to find all of these\n",
    "soup.body.find('div').find_next_siblings()"
   ]
  },
  {
   "cell_type": "markdown",
   "id": "6448c01f",
   "metadata": {},
   "source": [
    "### Excercises"
   ]
  },
  {
   "cell_type": "markdown",
   "id": "acf16034",
   "metadata": {},
   "source": [
    "#### load the webpage"
   ]
  },
  {
   "cell_type": "code",
   "execution_count": 51,
   "id": "f59a5e51",
   "metadata": {},
   "outputs": [
    {
     "name": "stdout",
     "output_type": "stream",
     "text": [
      "<head>\n",
      " <title>\n",
      "  Keith Galli's Page\n",
      " </title>\n",
      " <style>\n",
      "  table {\n",
      "    border-collapse: collapse;\n",
      "  }\n",
      "  th {\n",
      "    padding:5px;\n",
      "  }\n",
      "  td {\n",
      "    border: 1px solid #ddd;\n",
      "    padding: 5px;\n",
      "  }\n",
      "  tr:nth-child(even) {\n",
      "    background-color: #f2f2f2;\n",
      "  }\n",
      "  th {\n",
      "    padding-top: 12px;\n",
      "    padding-bottom: 12px;\n",
      "    text-align: left;\n",
      "    background-color: #add8e6;\n",
      "    color: black;\n",
      "  }\n",
      "  .block {\n",
      "  width: 100px;\n",
      "  /*float: left;*/\n",
      "    display: inline-block;\n",
      "    zoom: 1;\n",
      "  }\n",
      "  .column {\n",
      "  float: left;\n",
      "  height: 200px;\n",
      "  /*width: 33.33%;*/\n",
      "  padding: 5px;\n",
      "  }\n",
      "\n",
      "  .row::after {\n",
      "    content: \"\";\n",
      "    clear: both;\n",
      "    display: table;\n",
      "  }\n",
      " </style>\n",
      "</head>\n",
      "<body>\n",
      " <h1>\n",
      "  Welcome to my page!\n",
      " </h1>\n",
      " <img src=\"./images/selfie1.jpg\" width=\"300px\"/>\n",
      " <h2>\n",
      "  About me\n",
      " </h2>\n",
      " <p>\n",
      "  Hi, my name is Keith and I am a YouTuber who focuses on content related to programming, data science, and machine learning!\n",
      " </p>\n",
      " <p>\n",
      "  Here is a link to my channel:\n",
      "  <a href=\"https://www.youtube.com/kgmit\">\n",
      "   youtube.com/kgmit\n",
      "  </a>\n",
      " </p>\n",
      " <p>\n",
      "  I grew up in the great state of New Hampshire here in the USA. From an early age I always loved math. Around my senior year of high school, my brother first introduced me to programming. I found it a creative way to apply the same type of logical thinking skills that I enjoyed with math. This influenced me to study computer science in college and ultimately create a YouTube channel to share some things that I have learned along the way.\n",
      " </p>\n",
      " <h3>\n",
      "  Hobbies\n",
      " </h3>\n",
      " <p>\n",
      "  Believe it or not, I don't code 24/7. I love doing all sorts of active things. I like to play ice hockey &amp; table tennis as well as run, hike, skateboard, and snowboard. In addition to sports, I am a board game enthusiast. The two that I've been playing the most recently are\n",
      "  <i>\n",
      "   Settlers of Catan\n",
      "  </i>\n",
      "  and\n",
      "  <i>\n",
      "   Othello\n",
      "  </i>\n",
      "  .\n",
      " </p>\n",
      " <h3>\n",
      "  Fun Facts\n",
      " </h3>\n",
      " <ul class=\"fun-facts\">\n",
      "  <li>\n",
      "   Owned my dream car in high school\n",
      "   <a href=\"#footer\">\n",
      "    <sup>\n",
      "     1\n",
      "    </sup>\n",
      "   </a>\n",
      "  </li>\n",
      "  <li>\n",
      "   Middle name is Ronald\n",
      "  </li>\n",
      "  <li>\n",
      "   Never had been on a plane until college\n",
      "  </li>\n",
      "  <li>\n",
      "   Dunkin Donuts coffee is better than Starbucks\n",
      "  </li>\n",
      "  <li>\n",
      "   A favorite book series of mine is\n",
      "   <i>\n",
      "    Ender's Game\n",
      "   </i>\n",
      "  </li>\n",
      "  <li>\n",
      "   Current video game of choice is\n",
      "   <i>\n",
      "    Rocket League\n",
      "   </i>\n",
      "  </li>\n",
      "  <li>\n",
      "   The band that I've seen the most times live is the\n",
      "   <i>\n",
      "    Zac Brown Band\n",
      "   </i>\n",
      "  </li>\n",
      " </ul>\n",
      " <h2>\n",
      "  Social Media\n",
      " </h2>\n",
      " I encourage you to check out my content on all social media platforms\n",
      " <br/>\n",
      " <ul class=\"socials\">\n",
      "  <li class=\"social instagram\">\n",
      "   <b>\n",
      "    Instagram:\n",
      "   </b>\n",
      "   <a href=\"https://www.instagram.com/keithgalli/\">\n",
      "    https://www.instagram.com/keithgalli/\n",
      "   </a>\n",
      "  </li>\n",
      "  <li class=\"social twitter\">\n",
      "   <b>\n",
      "    Twitter:\n",
      "   </b>\n",
      "   <a href=\"https://twitter.com/keithgalli\">\n",
      "    https://twitter.com/keithgalli\n",
      "   </a>\n",
      "  </li>\n",
      "  <li class=\"social linkedin\">\n",
      "   <b>\n",
      "    LinkedIn:\n",
      "   </b>\n",
      "   <a href=\"https://www.linkedin.com/in/keithgalli/\">\n",
      "    https://www.linkedin.com/in/keithgalli/\n",
      "   </a>\n",
      "  </li>\n",
      "  <li class=\"social tiktok\">\n",
      "   <b>\n",
      "    TikTok:\n",
      "   </b>\n",
      "   <a href=\"https://www.tiktok.com/@keithgalli\">\n",
      "    https://www.tiktok.com/@keithgalli\n",
      "   </a>\n",
      "  </li>\n",
      " </ul>\n",
      " <h2>\n",
      "  Photos\n",
      " </h2>\n",
      " Here are a few photos from a trip to italy I took last year\n",
      " <div class=\"row\">\n",
      "  <div class=\"column\">\n",
      "   <img alt=\"Lake Como\" src=\"images/italy/lake_como.jpg\" style=\"height:100%\"/>\n",
      "  </div>\n",
      "  <div class=\"column\">\n",
      "   <img alt=\"Pontevecchio, Florence\" src=\"images/italy/pontevecchio.jpg\" style=\"height:100%\"/>\n",
      "  </div>\n",
      "  <div class=\"column\">\n",
      "   <img alt=\"Riomaggiore, Cinque de Terre\" src=\"images/italy/riomaggiore.jpg\" style=\"height:100%\"/>\n",
      "  </div>\n",
      " </div>\n",
      " <div>\n",
      " </div>\n",
      " <h2>\n",
      "  Table\n",
      " </h2>\n",
      " My MIT hockey stats :)\n",
      " <br/>\n",
      " <table class=\"hockey-stats\">\n",
      "  <thead>\n",
      "   <tr>\n",
      "    <th class=\"season\" data-sort=\"\">\n",
      "     S\n",
      "    </th>\n",
      "    <th class=\"team\" data-sort=\"team\">\n",
      "     Team\n",
      "    </th>\n",
      "    <th class=\"league\" data-sort=\"league\">\n",
      "     League\n",
      "    </th>\n",
      "    <th class=\"regular gp\" data-sort=\"gp\">\n",
      "     GP\n",
      "    </th>\n",
      "    <th class=\"regular g\" data-sort=\"g\">\n",
      "     G\n",
      "    </th>\n",
      "    <th class=\"regular a\" data-sort=\"a\">\n",
      "     A\n",
      "    </th>\n",
      "    <th class=\"regular tp\" data-sort=\"tp\">\n",
      "     TP\n",
      "    </th>\n",
      "    <th class=\"regular pim\" data-sort=\"pim\">\n",
      "     PIM\n",
      "    </th>\n",
      "    <th class=\"regular pm\" data-sort=\"pm\">\n",
      "     +/-\n",
      "    </th>\n",
      "    <th class=\"separator\">\n",
      "    </th>\n",
      "    <th class=\"postseason\">\n",
      "     POST\n",
      "    </th>\n",
      "    <th class=\"postseason gp\" data-sort=\"playoffs-gp\">\n",
      "     GP\n",
      "    </th>\n",
      "    <th class=\"postseason g\" data-sort=\"playoffs-g\">\n",
      "     G\n",
      "    </th>\n",
      "    <th class=\"postseason a\" data-sort=\"playoffs-a\">\n",
      "     A\n",
      "    </th>\n",
      "    <th class=\"postseason tp\" data-sort=\"playoffs-tp\">\n",
      "     TP\n",
      "    </th>\n",
      "    <th class=\"postseason pim\" data-sort=\"playoffs-pim\">\n",
      "     PIM\n",
      "    </th>\n",
      "    <th class=\"postseason pm\" data-sort=\"playoffs-pm\">\n",
      "     +/-\n",
      "    </th>\n",
      "   </tr>\n",
      "  </thead>\n",
      "  <tbody>\n",
      "   <tr class=\"team-continent-NA\">\n",
      "    <td class=\"season sorted\">\n",
      "     2014-15\n",
      "    </td>\n",
      "    <td class=\"team\">\n",
      "     <i>\n",
      "      <img src=\"images/flag.png\"/>\n",
      "     </i>\n",
      "     <span class=\"txt-blue\">\n",
      "      <a href=\"https://www.eliteprospects.com/team/10263/mit-mass.-inst.-of-tech./2014-2015?tab=stats\">\n",
      "       MIT (Mass. Inst. of Tech.)\n",
      "      </a>\n",
      "     </span>\n",
      "    </td>\n",
      "    <td class=\"league\">\n",
      "     <a href=\"https://www.eliteprospects.com/league/acha-ii/stats/2014-2015\">\n",
      "      ACHA II\n",
      "     </a>\n",
      "    </td>\n",
      "    <td class=\"regular gp\">\n",
      "     17\n",
      "    </td>\n",
      "    <td class=\"regular g\">\n",
      "     3\n",
      "    </td>\n",
      "    <td class=\"regular a\">\n",
      "     9\n",
      "    </td>\n",
      "    <td class=\"regular tp\">\n",
      "     12\n",
      "    </td>\n",
      "    <td class=\"regular pim\">\n",
      "     20\n",
      "    </td>\n",
      "    <td class=\"regular pm\">\n",
      "    </td>\n",
      "    <td class=\"separator\">\n",
      "     |\n",
      "    </td>\n",
      "    <td class=\"postseason\">\n",
      "     <a href=\"https://www.eliteprospects.com/league/acha-ii/stats/2014-2015\">\n",
      "     </a>\n",
      "    </td>\n",
      "    <td class=\"postseason gp\">\n",
      "    </td>\n",
      "    <td class=\"postseason g\">\n",
      "    </td>\n",
      "    <td class=\"postseason a\">\n",
      "    </td>\n",
      "    <td class=\"postseason tp\">\n",
      "    </td>\n",
      "    <td class=\"postseason pim\">\n",
      "    </td>\n",
      "    <td class=\"postseason pm\">\n",
      "    </td>\n",
      "   </tr>\n",
      "   <tr class=\"team-continent-NA\">\n",
      "    <td class=\"season sorted\">\n",
      "     2015-16\n",
      "    </td>\n",
      "    <td class=\"team\">\n",
      "     <i>\n",
      "      <img src=\"images/flag.png\"/>\n",
      "     </i>\n",
      "     <span class=\"txt-blue\">\n",
      "      <a href=\"https://www.eliteprospects.com/team/10263/mit-mass.-inst.-of-tech./2015-2016?tab=stats\">\n",
      "       MIT (Mass. Inst. of Tech.)\n",
      "      </a>\n",
      "     </span>\n",
      "    </td>\n",
      "    <td class=\"league\">\n",
      "     <a href=\"https://www.eliteprospects.com/league/acha-ii/stats/2015-2016\">\n",
      "      ACHA II\n",
      "     </a>\n",
      "    </td>\n",
      "    <td class=\"regular gp\">\n",
      "     9\n",
      "    </td>\n",
      "    <td class=\"regular g\">\n",
      "     1\n",
      "    </td>\n",
      "    <td class=\"regular a\">\n",
      "     1\n",
      "    </td>\n",
      "    <td class=\"regular tp\">\n",
      "     2\n",
      "    </td>\n",
      "    <td class=\"regular pim\">\n",
      "     2\n",
      "    </td>\n",
      "    <td class=\"regular pm\">\n",
      "    </td>\n",
      "    <td class=\"separator\">\n",
      "     |\n",
      "    </td>\n",
      "    <td class=\"postseason\">\n",
      "     <a href=\"https://www.eliteprospects.com/league/acha-ii/stats/2015-2016\">\n",
      "     </a>\n",
      "    </td>\n",
      "    <td class=\"postseason gp\">\n",
      "    </td>\n",
      "    <td class=\"postseason g\">\n",
      "    </td>\n",
      "    <td class=\"postseason a\">\n",
      "    </td>\n",
      "    <td class=\"postseason tp\">\n",
      "    </td>\n",
      "    <td class=\"postseason pim\">\n",
      "    </td>\n",
      "    <td class=\"postseason pm\">\n",
      "    </td>\n",
      "   </tr>\n",
      "   <tr class=\"team-continent-NA\">\n",
      "    <td class=\"season sorted\">\n",
      "     2016-17\n",
      "    </td>\n",
      "    <td class=\"team\">\n",
      "     <i>\n",
      "      <img src=\"images/flag.png\"/>\n",
      "     </i>\n",
      "     <span class=\"txt-blue\">\n",
      "      <a href=\"https://www.eliteprospects.com/team/10263/mit-mass.-inst.-of-tech./2016-2017?tab=stats\">\n",
      "       MIT (Mass. Inst. of Tech.)\n",
      "      </a>\n",
      "     </span>\n",
      "    </td>\n",
      "    <td class=\"league\">\n",
      "     <a href=\"https://www.eliteprospects.com/league/acha-ii/stats/2016-2017\">\n",
      "      ACHA II\n",
      "     </a>\n",
      "    </td>\n",
      "    <td class=\"regular gp\">\n",
      "     12\n",
      "    </td>\n",
      "    <td class=\"regular g\">\n",
      "     5\n",
      "    </td>\n",
      "    <td class=\"regular a\">\n",
      "     5\n",
      "    </td>\n",
      "    <td class=\"regular tp\">\n",
      "     10\n",
      "    </td>\n",
      "    <td class=\"regular pim\">\n",
      "     8\n",
      "    </td>\n",
      "    <td class=\"regular pm\">\n",
      "     0\n",
      "    </td>\n",
      "    <td class=\"separator\">\n",
      "     |\n",
      "    </td>\n",
      "    <td class=\"postseason\">\n",
      "    </td>\n",
      "    <td class=\"postseason gp\">\n",
      "    </td>\n",
      "    <td class=\"postseason g\">\n",
      "    </td>\n",
      "    <td class=\"postseason a\">\n",
      "    </td>\n",
      "    <td class=\"postseason tp\">\n",
      "    </td>\n",
      "    <td class=\"postseason pim\">\n",
      "    </td>\n",
      "    <td class=\"postseason pm\">\n",
      "    </td>\n",
      "   </tr>\n",
      "   <tr class=\"team-continent-EU\">\n",
      "    <td class=\"season sorted\">\n",
      "     2017-18\n",
      "    </td>\n",
      "    <td class=\"team\">\n",
      "     Did not play\n",
      "    </td>\n",
      "    <td class=\"league\">\n",
      "     <a href=\"https://www.eliteprospects.com/stats\">\n",
      "     </a>\n",
      "    </td>\n",
      "    <td class=\"regular gp\">\n",
      "    </td>\n",
      "    <td class=\"regular g\">\n",
      "    </td>\n",
      "    <td class=\"regular a\">\n",
      "    </td>\n",
      "    <td class=\"regular tp\">\n",
      "    </td>\n",
      "    <td class=\"regular pim\">\n",
      "    </td>\n",
      "    <td class=\"regular pm\">\n",
      "    </td>\n",
      "    <td class=\"separator\">\n",
      "     |\n",
      "    </td>\n",
      "    <td class=\"postseason\">\n",
      "     <a href=\"https://www.eliteprospects.com/stats\">\n",
      "     </a>\n",
      "    </td>\n",
      "    <td class=\"postseason gp\">\n",
      "    </td>\n",
      "    <td class=\"postseason g\">\n",
      "    </td>\n",
      "    <td class=\"postseason a\">\n",
      "    </td>\n",
      "    <td class=\"postseason tp\">\n",
      "    </td>\n",
      "    <td class=\"postseason pim\">\n",
      "    </td>\n",
      "    <td class=\"postseason pm\">\n",
      "    </td>\n",
      "   </tr>\n",
      "   <tr class=\"team-continent-NA\">\n",
      "    <td class=\"season sorted\">\n",
      "     2018-19\n",
      "    </td>\n",
      "    <td class=\"team\">\n",
      "     <i>\n",
      "      <img src=\"images/flag.png\"/>\n",
      "     </i>\n",
      "     <span class=\"txt-blue\">\n",
      "      <a href=\"https://www.eliteprospects.com/team/10263/mit-mass.-inst.-of-tech./2018-2019?tab=stats\">\n",
      "       MIT (Mass. Inst. of Tech.)\n",
      "      </a>\n",
      "     </span>\n",
      "    </td>\n",
      "    <td class=\"league\">\n",
      "     <a href=\"https://www.eliteprospects.com/league/acha-iii/stats/2018-2019\">\n",
      "      ACHA III\n",
      "     </a>\n",
      "    </td>\n",
      "    <td class=\"regular gp\">\n",
      "     8\n",
      "    </td>\n",
      "    <td class=\"regular g\">\n",
      "     5\n",
      "    </td>\n",
      "    <td class=\"regular a\">\n",
      "     10\n",
      "    </td>\n",
      "    <td class=\"regular tp\">\n",
      "     15\n",
      "    </td>\n",
      "    <td class=\"regular pim\">\n",
      "     8\n",
      "    </td>\n",
      "    <td class=\"regular pm\">\n",
      "    </td>\n",
      "    <td class=\"separator\">\n",
      "     |\n",
      "    </td>\n",
      "    <td class=\"postseason\">\n",
      "     <a href=\"https://www.eliteprospects.com/league/acha-iii/stats/2018-2019\">\n",
      "     </a>\n",
      "    </td>\n",
      "    <td class=\"postseason gp\">\n",
      "    </td>\n",
      "    <td class=\"postseason g\">\n",
      "    </td>\n",
      "    <td class=\"postseason a\">\n",
      "    </td>\n",
      "    <td class=\"postseason tp\">\n",
      "    </td>\n",
      "    <td class=\"postseason pim\">\n",
      "    </td>\n",
      "    <td class=\"postseason pm\">\n",
      "    </td>\n",
      "   </tr>\n",
      "  </tbody>\n",
      " </table>\n",
      " <h2>\n",
      "  Mystery Message Challenge!\n",
      " </h2>\n",
      " <p>\n",
      "  If you scrape the links below grabbing the &lt;p&gt; tag with id=\"secret-word\", you'll discover a secret message :)\n",
      " </p>\n",
      " <div width=\"50%\">\n",
      "  <div align=\"left\" class=\"block\">\n",
      "   <ul>\n",
      "    <li>\n",
      "     <a href=\"challenge/file_1.html\">\n",
      "      File 1\n",
      "     </a>\n",
      "    </li>\n",
      "    <li>\n",
      "     <a href=\"challenge/file_2.html\">\n",
      "      File 2\n",
      "     </a>\n",
      "    </li>\n",
      "    <li>\n",
      "     <a href=\"challenge/file_3.html\">\n",
      "      File 3\n",
      "     </a>\n",
      "    </li>\n",
      "    <li>\n",
      "     <a href=\"challenge/file_4.html\">\n",
      "      File 4\n",
      "     </a>\n",
      "    </li>\n",
      "    <li>\n",
      "     <a href=\"challenge/file_5.html\">\n",
      "      File 5\n",
      "     </a>\n",
      "    </li>\n",
      "   </ul>\n",
      "  </div>\n",
      "  <div align=\"center\" class=\"block\">\n",
      "   <ul>\n",
      "    <li>\n",
      "     <a href=\"challenge/file_6.html\">\n",
      "      File 6\n",
      "     </a>\n",
      "    </li>\n",
      "    <li>\n",
      "     <a href=\"challenge/file_7.html\">\n",
      "      File 7\n",
      "     </a>\n",
      "    </li>\n",
      "    <li>\n",
      "     <a href=\"challenge/file_8.html\">\n",
      "      File 8\n",
      "     </a>\n",
      "    </li>\n",
      "    <li>\n",
      "     <a href=\"challenge/file_9.html\">\n",
      "      File 9\n",
      "     </a>\n",
      "    </li>\n",
      "    <li>\n",
      "     <a href=\"challenge/file_10.html\">\n",
      "      File 10\n",
      "     </a>\n",
      "    </li>\n",
      "   </ul>\n",
      "  </div>\n",
      " </div>\n",
      " <h2>\n",
      "  Footnotes\n",
      " </h2>\n",
      " <p id=\"footer\">\n",
      "  1. This was actually a minivan that I named Debora. Maybe not my dream car, but I loved her nonetheless.\n",
      " </p>\n",
      "</body>\n",
      "\n"
     ]
    }
   ],
   "source": [
    "# loading the webpage content\n",
    "r = requests.get(\"https://keithgalli.github.io/web-scraping/webpage.html\")\n",
    "\n",
    "# convert to a beautiful soup object\n",
    "soup = bs(r.content)\n",
    "\n",
    "# print the html\n",
    "print(soup.prettify())"
   ]
  },
  {
   "cell_type": "markdown",
   "id": "1ea66157",
   "metadata": {},
   "source": [
    "#### task 1: fetch all social links on the page (3 different ways possible)"
   ]
  },
  {
   "cell_type": "code",
   "execution_count": 59,
   "id": "52824dec",
   "metadata": {},
   "outputs": [
    {
     "data": {
      "text/plain": [
       "['https://www.instagram.com/keithgalli/',\n",
       " 'https://twitter.com/keithgalli',\n",
       " 'https://www.linkedin.com/in/keithgalli/',\n",
       " 'https://www.tiktok.com/@keithgalli']"
      ]
     },
     "execution_count": 59,
     "metadata": {},
     "output_type": "execute_result"
    }
   ],
   "source": [
    "# method 1\n",
    "socials = soup.select('.socials .social a')\n",
    "socials = [social['href'] for social in socials]\n",
    "socials"
   ]
  },
  {
   "cell_type": "code",
   "execution_count": 71,
   "id": "64ab53f0",
   "metadata": {},
   "outputs": [
    {
     "data": {
      "text/plain": [
       "['https://www.instagram.com/keithgalli/',\n",
       " 'https://twitter.com/keithgalli',\n",
       " 'https://www.linkedin.com/in/keithgalli/',\n",
       " 'https://www.tiktok.com/@keithgalli']"
      ]
     },
     "execution_count": 71,
     "metadata": {},
     "output_type": "execute_result"
    }
   ],
   "source": [
    "socials = soup.find('ul', attrs = {\"class\": \"socials\"})\n",
    "socials = socials.find_all('a')\n",
    "socials = [social['href'] for social in socials]\n",
    "socials"
   ]
  },
  {
   "cell_type": "markdown",
   "id": "5d435aa4",
   "metadata": {},
   "source": [
    "#### task 2: Scrape a table"
   ]
  },
  {
   "cell_type": "code",
   "execution_count": 106,
   "id": "6fbc6022",
   "metadata": {},
   "outputs": [
    {
     "name": "stdout",
     "output_type": "stream",
     "text": [
      "['S', 'Team', 'League', 'GP', 'G', 'A', 'TP', 'PIM', '+/-', '\\xa0', 'POST', 'GP', 'G', 'A', 'TP', 'PIM', '+/-']\n"
     ]
    },
    {
     "data": {
      "text/html": [
       "<div>\n",
       "<style scoped>\n",
       "    .dataframe tbody tr th:only-of-type {\n",
       "        vertical-align: middle;\n",
       "    }\n",
       "\n",
       "    .dataframe tbody tr th {\n",
       "        vertical-align: top;\n",
       "    }\n",
       "\n",
       "    .dataframe thead th {\n",
       "        text-align: right;\n",
       "    }\n",
       "</style>\n",
       "<table border=\"1\" class=\"dataframe\">\n",
       "  <thead>\n",
       "    <tr style=\"text-align: right;\">\n",
       "      <th></th>\n",
       "      <th>S</th>\n",
       "      <th>Team</th>\n",
       "      <th>League</th>\n",
       "      <th>GP</th>\n",
       "      <th>G</th>\n",
       "      <th>A</th>\n",
       "      <th>TP</th>\n",
       "      <th>PIM</th>\n",
       "      <th>+/-</th>\n",
       "      <th></th>\n",
       "      <th>POST</th>\n",
       "      <th>GP</th>\n",
       "      <th>G</th>\n",
       "      <th>A</th>\n",
       "      <th>TP</th>\n",
       "      <th>PIM</th>\n",
       "      <th>+/-</th>\n",
       "    </tr>\n",
       "  </thead>\n",
       "  <tbody>\n",
       "    <tr>\n",
       "      <th>0</th>\n",
       "      <td>2014-15</td>\n",
       "      <td>MIT (Mass. Inst. of Tech.)</td>\n",
       "      <td>ACHA II</td>\n",
       "      <td>17</td>\n",
       "      <td>3</td>\n",
       "      <td>9</td>\n",
       "      <td>12</td>\n",
       "      <td>20</td>\n",
       "      <td></td>\n",
       "      <td>|</td>\n",
       "      <td></td>\n",
       "      <td></td>\n",
       "      <td></td>\n",
       "      <td></td>\n",
       "      <td></td>\n",
       "      <td></td>\n",
       "      <td></td>\n",
       "    </tr>\n",
       "    <tr>\n",
       "      <th>1</th>\n",
       "      <td>2015-16</td>\n",
       "      <td>MIT (Mass. Inst. of Tech.)</td>\n",
       "      <td>ACHA II</td>\n",
       "      <td>9</td>\n",
       "      <td>1</td>\n",
       "      <td>1</td>\n",
       "      <td>2</td>\n",
       "      <td>2</td>\n",
       "      <td></td>\n",
       "      <td>|</td>\n",
       "      <td></td>\n",
       "      <td></td>\n",
       "      <td></td>\n",
       "      <td></td>\n",
       "      <td></td>\n",
       "      <td></td>\n",
       "      <td></td>\n",
       "    </tr>\n",
       "    <tr>\n",
       "      <th>2</th>\n",
       "      <td>2016-17</td>\n",
       "      <td>MIT (Mass. Inst. of Tech.)</td>\n",
       "      <td>ACHA II</td>\n",
       "      <td>12</td>\n",
       "      <td>5</td>\n",
       "      <td>5</td>\n",
       "      <td>10</td>\n",
       "      <td>8</td>\n",
       "      <td>0</td>\n",
       "      <td>|</td>\n",
       "      <td></td>\n",
       "      <td></td>\n",
       "      <td></td>\n",
       "      <td></td>\n",
       "      <td></td>\n",
       "      <td></td>\n",
       "      <td></td>\n",
       "    </tr>\n",
       "    <tr>\n",
       "      <th>3</th>\n",
       "      <td>2017-18</td>\n",
       "      <td>Did not play</td>\n",
       "      <td></td>\n",
       "      <td></td>\n",
       "      <td></td>\n",
       "      <td></td>\n",
       "      <td></td>\n",
       "      <td></td>\n",
       "      <td></td>\n",
       "      <td>|</td>\n",
       "      <td></td>\n",
       "      <td></td>\n",
       "      <td></td>\n",
       "      <td></td>\n",
       "      <td></td>\n",
       "      <td></td>\n",
       "      <td></td>\n",
       "    </tr>\n",
       "    <tr>\n",
       "      <th>4</th>\n",
       "      <td>2018-19</td>\n",
       "      <td>MIT (Mass. Inst. of Tech.)</td>\n",
       "      <td>ACHA III</td>\n",
       "      <td>8</td>\n",
       "      <td>5</td>\n",
       "      <td>10</td>\n",
       "      <td>15</td>\n",
       "      <td>8</td>\n",
       "      <td></td>\n",
       "      <td>|</td>\n",
       "      <td></td>\n",
       "      <td></td>\n",
       "      <td></td>\n",
       "      <td></td>\n",
       "      <td></td>\n",
       "      <td></td>\n",
       "      <td></td>\n",
       "    </tr>\n",
       "  </tbody>\n",
       "</table>\n",
       "</div>"
      ],
      "text/plain": [
       "         S                        Team    League  GP  G   A  TP PIM +/-     \\\n",
       "0  2014-15  MIT (Mass. Inst. of Tech.)   ACHA II  17  3   9  12  20      |   \n",
       "1  2015-16  MIT (Mass. Inst. of Tech.)   ACHA II   9  1   1   2   2      |   \n",
       "2  2016-17  MIT (Mass. Inst. of Tech.)   ACHA II  12  5   5  10   8   0  |   \n",
       "3  2017-18                Did not play                                   |   \n",
       "4  2018-19  MIT (Mass. Inst. of Tech.)  ACHA III   8  5  10  15   8      |   \n",
       "\n",
       "  POST GP G A TP PIM +/-  \n",
       "0                         \n",
       "1                         \n",
       "2                         \n",
       "3                         \n",
       "4                         "
      ]
     },
     "execution_count": 106,
     "metadata": {},
     "output_type": "execute_result"
    }
   ],
   "source": [
    "import pandas as pd\n",
    "table = soup.find('table', attrs = {\"class\": \"hockey-stats\"})\n",
    "table_header = table.find('thead').find_all('th')\n",
    "table_headings = [column.string for column in table_header]\n",
    "print(table_headings)\n",
    "\n",
    "\n",
    "table_body = table.find('tbody')\n",
    "table_rows = table_body.find_all('tr')\n",
    "data = []\n",
    "for row in table_rows:\n",
    "    tds = row.find_all('td')\n",
    "    rowData = [td.get_text().strip() for td in tds]\n",
    "    data.append(rowData)\n",
    "\n",
    "df = pd.DataFrame(data, columns = table_headings)\n",
    "df\n"
   ]
  },
  {
   "cell_type": "markdown",
   "id": "f66b37f5",
   "metadata": {},
   "source": [
    "#### task 3: Scrape fun facts that has the word 'is'"
   ]
  },
  {
   "cell_type": "code",
   "execution_count": 113,
   "id": "5c9be158",
   "metadata": {},
   "outputs": [
    {
     "name": "stdout",
     "output_type": "stream",
     "text": [
      "['', 'Middle name is Ronald', '', 'Dunkin Donuts coffee is better than Starbucks', \"A favorite book series of mine is Ender's Game\", 'Current video game of choice is Rocket League', \"The band that I've seen the most times live is the Zac Brown Band\"]\n"
     ]
    }
   ],
   "source": [
    "# painful way\n",
    "fun_facts = soup.find('ul', {\"class\": \"fun-facts\"})\n",
    "fun_facts = fun_facts.find_all('li')\n",
    "fun_facts = list(map(lambda x: x.get_text().strip() if 'is' in x.get_text().strip() else '', fun_facts))\n",
    "print(fun_facts)"
   ]
  },
  {
   "cell_type": "code",
   "execution_count": 124,
   "id": "836d8c69",
   "metadata": {},
   "outputs": [
    {
     "name": "stdout",
     "output_type": "stream",
     "text": [
      "['Middle name is Ronald', 'Dunkin Donuts coffee is better than Starbucks', \"A favorite book series of mine is Ender's Game\", 'Current video game of choice is Rocket League', \"The band that I've seen the most times live is the Zac Brown Band\"]\n"
     ]
    }
   ],
   "source": [
    "# easy way\n",
    "fun_facts = soup.select('.fun-facts li')\n",
    "fun_facts = [fact.find(string = re.compile('is')) for fact in fun_facts]\n",
    "fun_facts = [fact.find_parent().get_text() for fact in fun_facts if fact]\n",
    "print(fun_facts)\n",
    "# fun_facts = fun_facts.find_all('li', string = re.compile('is'))\n",
    "# fun_facts"
   ]
  },
  {
   "cell_type": "markdown",
   "id": "68966259",
   "metadata": {},
   "source": [
    "#### task 4: download the images"
   ]
  },
  {
   "cell_type": "code",
   "execution_count": 130,
   "id": "c10df30d",
   "metadata": {},
   "outputs": [],
   "source": [
    "import urllib.request\n",
    "images = soup.find_all('img')\n",
    "base_path = 'https://keithgalli.github.io/web-scraping/'\n",
    "count = 0\n",
    "for image in images:\n",
    "    link = base_path + re.sub(r'^.*?i', 'i', image['src'])    \n",
    "    urllib.request.urlretrieve(link, f\"{count}.jpg\")\n",
    "    count += 1"
   ]
  },
  {
   "cell_type": "markdown",
   "id": "02bc550d",
   "metadata": {},
   "source": [
    "#### task 5: scrape the secret (based on elements and their ids)"
   ]
  },
  {
   "cell_type": "code",
   "execution_count": 140,
   "id": "4968c900",
   "metadata": {},
   "outputs": [
    {
     "name": "stdout",
     "output_type": "stream",
     "text": [
      "Make sure to smash that like button and subscribe !!!\n"
     ]
    }
   ],
   "source": [
    "base_path = 'https://keithgalli.github.io/web-scraping/'\n",
    "files = soup.select('.block a')\n",
    "secret_message = []\n",
    "for file in files:\n",
    "    link = base_path + file['href']\n",
    "    r = requests.get(link)\n",
    "    sub_soup = bs(r.content)\n",
    "    secret_message.append(sub_soup.select('#secret-word')[0].string)\n",
    "print(' '.join(secret_message))"
   ]
  },
  {
   "cell_type": "markdown",
   "id": "d09e6998",
   "metadata": {},
   "source": [
    "### Room for more"
   ]
  },
  {
   "cell_type": "code",
   "execution_count": null,
   "id": "27b45c76",
   "metadata": {},
   "outputs": [],
   "source": []
  },
  {
   "cell_type": "code",
   "execution_count": null,
   "id": "c0cd1eed",
   "metadata": {},
   "outputs": [],
   "source": []
  },
  {
   "cell_type": "code",
   "execution_count": null,
   "id": "c2953958",
   "metadata": {},
   "outputs": [],
   "source": []
  },
  {
   "cell_type": "code",
   "execution_count": null,
   "id": "1c21f118",
   "metadata": {},
   "outputs": [],
   "source": []
  },
  {
   "cell_type": "code",
   "execution_count": null,
   "id": "207a8060",
   "metadata": {},
   "outputs": [],
   "source": []
  },
  {
   "cell_type": "code",
   "execution_count": null,
   "id": "38aeab95",
   "metadata": {},
   "outputs": [],
   "source": []
  }
 ],
 "metadata": {
  "kernelspec": {
   "display_name": "Python 3 (ipykernel)",
   "language": "python",
   "name": "python3"
  },
  "language_info": {
   "codemirror_mode": {
    "name": "ipython",
    "version": 3
   },
   "file_extension": ".py",
   "mimetype": "text/x-python",
   "name": "python",
   "nbconvert_exporter": "python",
   "pygments_lexer": "ipython3",
   "version": "3.10.1"
  }
 },
 "nbformat": 4,
 "nbformat_minor": 5
}
